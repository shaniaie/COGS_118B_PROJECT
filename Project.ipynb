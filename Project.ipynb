{
 "cells": [
  {
   "cell_type": "markdown",
   "metadata": {},
   "source": [
    "# UCI Heart Disease K-Means Project"
   ]
  },
  {
   "cell_type": "markdown",
   "metadata": {},
   "source": [
    "## Introduction - Dori"
   ]
  },
  {
   "cell_type": "markdown",
   "metadata": {},
   "source": [
    "introduce dataset(variables and dimensions) as well as analysis with k-means and pca"
   ]
  },
  {
   "cell_type": "markdown",
   "metadata": {},
   "source": [
    "### Imports and Reading CSV"
   ]
  },
  {
   "cell_type": "code",
   "execution_count": 1,
   "metadata": {},
   "outputs": [],
   "source": [
    "import pandas as pd\n",
    "import numpy as np\n",
<<<<<<< Updated upstream
    "from sklearn.preprocessing import StandardScaler\n",
=======
    "import matplotlib.pyplot as plt\n",
    "import seaborn as sns\n",
    "from sklearn.preprocessing import StandardScaler, OneHotEncoder\n",
    "from sklearn.pipeline import Pipeline\n",
    "from sklearn.compose import ColumnTransformer\n",
>>>>>>> Stashed changes
    "from sklearn.model_selection import train_test_split"
   ]
  },
  {
   "cell_type": "code",
   "execution_count": 2,
   "metadata": {},
   "outputs": [
    {
     "data": {
      "text/html": [
       "<div>\n",
       "<style scoped>\n",
       "    .dataframe tbody tr th:only-of-type {\n",
       "        vertical-align: middle;\n",
       "    }\n",
       "\n",
       "    .dataframe tbody tr th {\n",
       "        vertical-align: top;\n",
       "    }\n",
       "\n",
       "    .dataframe thead th {\n",
       "        text-align: right;\n",
       "    }\n",
       "</style>\n",
       "<table border=\"1\" class=\"dataframe\">\n",
       "  <thead>\n",
       "    <tr style=\"text-align: right;\">\n",
       "      <th></th>\n",
       "      <th>id</th>\n",
       "      <th>age</th>\n",
       "      <th>sex</th>\n",
       "      <th>dataset</th>\n",
       "      <th>cp</th>\n",
       "      <th>trestbps</th>\n",
       "      <th>chol</th>\n",
       "      <th>fbs</th>\n",
       "      <th>restecg</th>\n",
       "      <th>thalch</th>\n",
       "      <th>exang</th>\n",
       "      <th>oldpeak</th>\n",
       "      <th>slope</th>\n",
       "      <th>ca</th>\n",
       "      <th>thal</th>\n",
       "      <th>num</th>\n",
       "    </tr>\n",
       "  </thead>\n",
       "  <tbody>\n",
       "    <tr>\n",
       "      <th>0</th>\n",
       "      <td>1</td>\n",
       "      <td>63</td>\n",
       "      <td>Male</td>\n",
       "      <td>Cleveland</td>\n",
       "      <td>typical angina</td>\n",
       "      <td>145.0</td>\n",
       "      <td>233.0</td>\n",
       "      <td>True</td>\n",
       "      <td>lv hypertrophy</td>\n",
       "      <td>150.0</td>\n",
       "      <td>False</td>\n",
       "      <td>2.3</td>\n",
       "      <td>downsloping</td>\n",
       "      <td>0.0</td>\n",
       "      <td>fixed defect</td>\n",
       "      <td>0</td>\n",
       "    </tr>\n",
       "    <tr>\n",
       "      <th>1</th>\n",
       "      <td>2</td>\n",
       "      <td>67</td>\n",
       "      <td>Male</td>\n",
       "      <td>Cleveland</td>\n",
       "      <td>asymptomatic</td>\n",
       "      <td>160.0</td>\n",
       "      <td>286.0</td>\n",
       "      <td>False</td>\n",
       "      <td>lv hypertrophy</td>\n",
       "      <td>108.0</td>\n",
       "      <td>True</td>\n",
       "      <td>1.5</td>\n",
       "      <td>flat</td>\n",
       "      <td>3.0</td>\n",
       "      <td>normal</td>\n",
       "      <td>2</td>\n",
       "    </tr>\n",
       "    <tr>\n",
       "      <th>2</th>\n",
       "      <td>3</td>\n",
       "      <td>67</td>\n",
       "      <td>Male</td>\n",
       "      <td>Cleveland</td>\n",
       "      <td>asymptomatic</td>\n",
       "      <td>120.0</td>\n",
       "      <td>229.0</td>\n",
       "      <td>False</td>\n",
       "      <td>lv hypertrophy</td>\n",
       "      <td>129.0</td>\n",
       "      <td>True</td>\n",
       "      <td>2.6</td>\n",
       "      <td>flat</td>\n",
       "      <td>2.0</td>\n",
       "      <td>reversable defect</td>\n",
       "      <td>1</td>\n",
       "    </tr>\n",
       "    <tr>\n",
       "      <th>3</th>\n",
       "      <td>4</td>\n",
       "      <td>37</td>\n",
       "      <td>Male</td>\n",
       "      <td>Cleveland</td>\n",
       "      <td>non-anginal</td>\n",
       "      <td>130.0</td>\n",
       "      <td>250.0</td>\n",
       "      <td>False</td>\n",
       "      <td>normal</td>\n",
       "      <td>187.0</td>\n",
       "      <td>False</td>\n",
       "      <td>3.5</td>\n",
       "      <td>downsloping</td>\n",
       "      <td>0.0</td>\n",
       "      <td>normal</td>\n",
       "      <td>0</td>\n",
       "    </tr>\n",
       "    <tr>\n",
       "      <th>4</th>\n",
       "      <td>5</td>\n",
       "      <td>41</td>\n",
       "      <td>Female</td>\n",
       "      <td>Cleveland</td>\n",
       "      <td>atypical angina</td>\n",
       "      <td>130.0</td>\n",
       "      <td>204.0</td>\n",
       "      <td>False</td>\n",
       "      <td>lv hypertrophy</td>\n",
       "      <td>172.0</td>\n",
       "      <td>False</td>\n",
       "      <td>1.4</td>\n",
       "      <td>upsloping</td>\n",
       "      <td>0.0</td>\n",
       "      <td>normal</td>\n",
       "      <td>0</td>\n",
       "    </tr>\n",
       "  </tbody>\n",
       "</table>\n",
       "</div>"
      ],
      "text/plain": [
       "   id  age     sex    dataset               cp  trestbps   chol    fbs  \\\n",
       "0   1   63    Male  Cleveland   typical angina     145.0  233.0   True   \n",
       "1   2   67    Male  Cleveland     asymptomatic     160.0  286.0  False   \n",
       "2   3   67    Male  Cleveland     asymptomatic     120.0  229.0  False   \n",
       "3   4   37    Male  Cleveland      non-anginal     130.0  250.0  False   \n",
       "4   5   41  Female  Cleveland  atypical angina     130.0  204.0  False   \n",
       "\n",
       "          restecg  thalch  exang  oldpeak        slope   ca  \\\n",
       "0  lv hypertrophy   150.0  False      2.3  downsloping  0.0   \n",
       "1  lv hypertrophy   108.0   True      1.5         flat  3.0   \n",
       "2  lv hypertrophy   129.0   True      2.6         flat  2.0   \n",
       "3          normal   187.0  False      3.5  downsloping  0.0   \n",
       "4  lv hypertrophy   172.0  False      1.4    upsloping  0.0   \n",
       "\n",
       "                thal  num  \n",
       "0       fixed defect    0  \n",
       "1             normal    2  \n",
       "2  reversable defect    1  \n",
       "3             normal    0  \n",
       "4             normal    0  "
      ]
     },
     "execution_count": 2,
     "metadata": {},
     "output_type": "execute_result"
    }
   ],
   "source": [
    "df = pd.read_csv('heart_disease_uci.csv')\n",
    "df.head()"
   ]
  },
  {
   "cell_type": "markdown",
   "metadata": {},
   "source": [
    "## Data Cleaning - Shania/Tiffany\n",
    "Removing categorical variables and id.\n",
    "\n",
    "Removing entries with missing data.\n",
    "\n",
    "Splitting data into 80-20 Train and Test"
   ]
  },
  {
   "cell_type": "code",
   "execution_count": 3,
   "metadata": {},
   "outputs": [
    {
     "data": {
      "text/plain": [
       "age           0\n",
       "sex           0\n",
       "dataset       0\n",
       "cp            0\n",
       "trestbps     59\n",
       "chol         30\n",
       "fbs          90\n",
       "restecg       2\n",
       "thalch       55\n",
       "exang        55\n",
       "oldpeak      62\n",
       "slope       309\n",
       "ca          611\n",
       "thal        486\n",
       "num           0\n",
       "dtype: int64"
      ]
     },
     "execution_count": 3,
     "metadata": {},
     "output_type": "execute_result"
    }
   ],
   "source": [
    "df = df.drop(columns='id', axis=2)\n",
    "# checking columns with the most frequent null values\n",
    "df.isna().sum()"
   ]
  },
  {
   "cell_type": "code",
   "execution_count": 4,
   "metadata": {},
   "outputs": [],
   "source": [
    "# dropping columns with the most null values\n",
    "df = df.drop(columns=['ca', 'slope', 'thal'], axis=1)"
   ]
  },
  {
   "cell_type": "code",
<<<<<<< Updated upstream
   "execution_count": 5,
=======
   "execution_count": 4,
>>>>>>> Stashed changes
   "metadata": {},
   "outputs": [
    {
     "name": "stdout",
     "output_type": "stream",
     "text": [
<<<<<<< Updated upstream
=======
      "age           0\n",
      "sex           0\n",
      "dataset       0\n",
      "cp            0\n",
      "trestbps     59\n",
      "chol         30\n",
      "fbs          90\n",
      "restecg       2\n",
      "thalch       55\n",
      "exang        55\n",
      "oldpeak      62\n",
      "slope       309\n",
      "ca          611\n",
      "thal        486\n",
      "num           0\n",
      "dtype: int64\n",
>>>>>>> Stashed changes
      "<class 'pandas.core.frame.DataFrame'>\n",
      "RangeIndex: 920 entries, 0 to 919\n",
      "Data columns (total 12 columns):\n",
      " #   Column    Non-Null Count  Dtype  \n",
      "---  ------    --------------  -----  \n",
      " 0   age       920 non-null    int64  \n",
      " 1   sex       920 non-null    object \n",
      " 2   dataset   920 non-null    object \n",
      " 3   cp        920 non-null    object \n",
      " 4   trestbps  861 non-null    float64\n",
      " 5   chol      890 non-null    float64\n",
      " 6   fbs       830 non-null    object \n",
      " 7   restecg   918 non-null    object \n",
      " 8   thalch    865 non-null    float64\n",
      " 9   exang     865 non-null    object \n",
      " 10  oldpeak   858 non-null    float64\n",
      " 11  num       920 non-null    int64  \n",
      "dtypes: float64(4), int64(2), object(6)\n",
      "memory usage: 86.4+ KB\n"
     ]
    }
   ],
   "source": [
    "# checking data frame information after dropping null columns\n",
    "df.info()"
   ]
  },
  {
   "cell_type": "code",
<<<<<<< Updated upstream
   "execution_count": 6,
   "metadata": {},
   "outputs": [],
   "source": [
    "# dropping columns with categorical values\n",
    "df = df.drop(columns= df.select_dtypes(['object']).columns, axis=1)"
   ]
  },
  {
   "cell_type": "code",
   "execution_count": 7,
=======
   "execution_count": 5,
>>>>>>> Stashed changes
   "metadata": {},
   "outputs": [
    {
     "name": "stdout",
     "output_type": "stream",
     "text": [
      "<class 'pandas.core.frame.DataFrame'>\n",
      "RangeIndex: 920 entries, 0 to 919\n",
      "Data columns (total 6 columns):\n",
      " #   Column    Non-Null Count  Dtype  \n",
      "---  ------    --------------  -----  \n",
      " 0   age       920 non-null    int64  \n",
      " 1   trestbps  861 non-null    float64\n",
      " 2   chol      890 non-null    float64\n",
      " 3   thalch    865 non-null    float64\n",
      " 4   oldpeak   858 non-null    float64\n",
      " 5   num       920 non-null    int64  \n",
      "dtypes: float64(4), int64(2)\n",
      "memory usage: 43.2 KB\n"
     ]
    }
   ],
   "source": [
    "# checking data frame information after dropping categorical columns\n",
    "df.info()"
   ]
  },
  {
   "cell_type": "code",
   "execution_count": 8,
   "metadata": {},
   "outputs": [],
   "source": [
    "# dropping rows containing null values\n",
    "df = df.dropna()"
   ]
  },
  {
   "cell_type": "code",
   "execution_count": 9,
   "metadata": {},
   "outputs": [
    {
     "name": "stdout",
     "output_type": "stream",
     "text": [
      "<class 'pandas.core.frame.DataFrame'>\n",
      "Int64Index: 827 entries, 0 to 919\n",
      "Data columns (total 6 columns):\n",
      " #   Column    Non-Null Count  Dtype  \n",
      "---  ------    --------------  -----  \n",
      " 0   age       827 non-null    int64  \n",
      " 1   trestbps  827 non-null    float64\n",
      " 2   chol      827 non-null    float64\n",
      " 3   thalch    827 non-null    float64\n",
      " 4   oldpeak   827 non-null    float64\n",
      " 5   num       827 non-null    int64  \n",
      "dtypes: float64(4), int64(2)\n",
      "memory usage: 45.2 KB\n"
     ]
    }
   ],
   "source": [
    "# checking final dataframe form after cleaning\n",
    "df.info()"
   ]
  },
  {
   "cell_type": "code",
   "execution_count": 10,
   "metadata": {},
   "outputs": [
    {
     "data": {
      "text/html": [
       "<div>\n",
       "<style scoped>\n",
       "    .dataframe tbody tr th:only-of-type {\n",
       "        vertical-align: middle;\n",
       "    }\n",
       "\n",
       "    .dataframe tbody tr th {\n",
       "        vertical-align: top;\n",
       "    }\n",
       "\n",
       "    .dataframe thead th {\n",
       "        text-align: right;\n",
       "    }\n",
       "</style>\n",
       "<table border=\"1\" class=\"dataframe\">\n",
       "  <thead>\n",
       "    <tr style=\"text-align: right;\">\n",
       "      <th></th>\n",
       "      <th>age</th>\n",
       "      <th>trestbps</th>\n",
       "      <th>chol</th>\n",
       "      <th>thalch</th>\n",
       "      <th>oldpeak</th>\n",
       "    </tr>\n",
       "  </thead>\n",
       "  <tbody>\n",
       "    <tr>\n",
       "      <th>0</th>\n",
       "      <td>1.050186</td>\n",
       "      <td>0.679000</td>\n",
       "      <td>0.291349</td>\n",
       "      <td>0.474814</td>\n",
       "      <td>1.295742</td>\n",
       "    </tr>\n",
       "    <tr>\n",
       "      <th>1</th>\n",
       "      <td>1.478336</td>\n",
       "      <td>1.467744</td>\n",
       "      <td>0.773058</td>\n",
       "      <td>-1.152115</td>\n",
       "      <td>0.564039</td>\n",
       "    </tr>\n",
       "    <tr>\n",
       "      <th>2</th>\n",
       "      <td>1.478336</td>\n",
       "      <td>-0.635573</td>\n",
       "      <td>0.254994</td>\n",
       "      <td>-0.338651</td>\n",
       "      <td>1.570131</td>\n",
       "    </tr>\n",
       "    <tr>\n",
       "      <th>3</th>\n",
       "      <td>-1.732793</td>\n",
       "      <td>-0.109744</td>\n",
       "      <td>0.445860</td>\n",
       "      <td>1.908061</td>\n",
       "      <td>2.393296</td>\n",
       "    </tr>\n",
       "    <tr>\n",
       "      <th>4</th>\n",
       "      <td>-1.304643</td>\n",
       "      <td>-0.109744</td>\n",
       "      <td>0.027772</td>\n",
       "      <td>1.327015</td>\n",
       "      <td>0.472576</td>\n",
       "    </tr>\n",
       "    <tr>\n",
       "      <th>...</th>\n",
       "      <td>...</td>\n",
       "      <td>...</td>\n",
       "      <td>...</td>\n",
       "      <td>...</td>\n",
       "      <td>...</td>\n",
       "    </tr>\n",
       "    <tr>\n",
       "      <th>822</th>\n",
       "      <td>0.943148</td>\n",
       "      <td>1.362578</td>\n",
       "      <td>-0.281249</td>\n",
       "      <td>0.009977</td>\n",
       "      <td>-0.807903</td>\n",
       "    </tr>\n",
       "    <tr>\n",
       "      <th>823</th>\n",
       "      <td>-0.769454</td>\n",
       "      <td>0.100588</td>\n",
       "      <td>0.991191</td>\n",
       "      <td>-0.454860</td>\n",
       "      <td>-0.807903</td>\n",
       "    </tr>\n",
       "    <tr>\n",
       "      <th>824</th>\n",
       "      <td>0.086847</td>\n",
       "      <td>-0.267493</td>\n",
       "      <td>1.200235</td>\n",
       "      <td>0.629759</td>\n",
       "      <td>-0.807903</td>\n",
       "    </tr>\n",
       "    <tr>\n",
       "      <th>825</th>\n",
       "      <td>0.193884</td>\n",
       "      <td>-0.530407</td>\n",
       "      <td>0.200460</td>\n",
       "      <td>-1.462007</td>\n",
       "      <td>-0.807903</td>\n",
       "    </tr>\n",
       "    <tr>\n",
       "      <th>826</th>\n",
       "      <td>0.943148</td>\n",
       "      <td>-0.635573</td>\n",
       "      <td>0.482215</td>\n",
       "      <td>-1.733162</td>\n",
       "      <td>-0.807903</td>\n",
       "    </tr>\n",
       "  </tbody>\n",
       "</table>\n",
       "<p>827 rows × 5 columns</p>\n",
       "</div>"
      ],
      "text/plain": [
       "          age  trestbps      chol    thalch   oldpeak\n",
       "0    1.050186  0.679000  0.291349  0.474814  1.295742\n",
       "1    1.478336  1.467744  0.773058 -1.152115  0.564039\n",
       "2    1.478336 -0.635573  0.254994 -0.338651  1.570131\n",
       "3   -1.732793 -0.109744  0.445860  1.908061  2.393296\n",
       "4   -1.304643 -0.109744  0.027772  1.327015  0.472576\n",
       "..        ...       ...       ...       ...       ...\n",
       "822  0.943148  1.362578 -0.281249  0.009977 -0.807903\n",
       "823 -0.769454  0.100588  0.991191 -0.454860 -0.807903\n",
       "824  0.086847 -0.267493  1.200235  0.629759 -0.807903\n",
       "825  0.193884 -0.530407  0.200460 -1.462007 -0.807903\n",
       "826  0.943148 -0.635573  0.482215 -1.733162 -0.807903\n",
       "\n",
       "[827 rows x 5 columns]"
      ]
     },
<<<<<<< Updated upstream
     "execution_count": 10,
=======
     "execution_count": 5,
>>>>>>> Stashed changes
     "metadata": {},
     "output_type": "execute_result"
    }
   ],
   "source": [
    "# standardizing dataset\n",
    "X = df.drop(['num'], axis=1)\n",
    "y = df['num']\n",
    "col = X.columns\n",
    "\n",
    "# perform standard scaler\n",
    "scale = StandardScaler()\n",
    "X = pd.DataFrame(scale.fit_transform(X[col]))\n",
    "X.columns = col\n",
    "X"
   ]
  },
  {
   "cell_type": "code",
<<<<<<< Updated upstream
   "execution_count": 11,
=======
   "execution_count": 6,
>>>>>>> Stashed changes
   "metadata": {},
   "outputs": [],
   "source": [
    "# split data\n",
    "X_train, X_test, y_train, y_test = train_test_split(X, y, train_size=0.8, shuffle=True)"
   ]
  },
  {
   "cell_type": "markdown",
   "metadata": {},
   "source": [
    "## K - Means - Cory\n",
    "Running K-means with K=5 (num column [0=no heart disease; 1,2,3,4 = stages of heart disease ])"
   ]
  },
  {
   "cell_type": "markdown",
   "metadata": {},
   "source": [
    "-dependent variables are trestbps, chol, thalch, oldpeak, ca  -> want to see how grouped  \n",
    "-predictions (Y) are num column: diff levels of heart disease"
   ]
  },
  {
   "cell_type": "markdown",
   "metadata": {},
   "source": [
    "* trestbps - resting blood pressure (resting blood pressure (in mm Hg on admission to the hospital))\n",
    "* chol - (serum cholesterol in mg/dl)\n",
    "* thalach - maximum heart rate achieved\n",
    "* oldpeak - ST depression induced by exercise ST segment\n",
    "* ca: number of major vessels (0-3) colored by fluoroscopy"
   ]
  },
  {
   "cell_type": "code",
   "execution_count": 7,
   "metadata": {},
   "outputs": [
    {
     "data": {
      "image/png": "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\n",
      "text/plain": [
       "<Figure size 900x180 with 5 Axes>"
      ]
     },
     "metadata": {
      "needs_background": "light"
     },
     "output_type": "display_data"
    }
   ],
   "source": [
    "pp = sns.pairplot(data=df,\n",
    "                  y_vars=['num'],\n",
    "                  x_vars=['trestbps', 'chol', 'thalch','oldpeak','ca'])"
   ]
  },
  {
   "cell_type": "code",
   "execution_count": 8,
   "metadata": {},
   "outputs": [],
   "source": [
    "def calcSqDistances(X, Kmus):\n",
    "    # k number of Kmus\n",
    "    #need to find minimum distance from X[][] to Kmus\n",
    "    #need to find closest Kmus and calulate distance\n",
    "    dist = np.zeros((np.shape(X)[0],np.shape(Kmus)[0]))\n",
    "    for k in range(0,Kmus.shape[0]):\n",
    "        for n in range(0,X.shape[0]): # changed from 0\n",
    "            dist[n][k] = (X[n][0]-Kmus[k][0])**2 + (X[n][1]-Kmus[k][1])**2 + (X[n][2]-Kmus[k][2])**2 + (X[n][3]-Kmus[k][3])**2 + (X[n][4]-Kmus[k][4])**2\n",
    "    return dist"
   ]
  },
  {
   "cell_type": "code",
   "execution_count": 9,
   "metadata": {},
   "outputs": [],
   "source": [
    "def determineRnk(sqDmat):\n",
    "    m = np.argmin(sqDmat, axis=1)\n",
    "    return np.eye(sqDmat.shape[1])[m]                \n",
    "    "
   ]
  },
  {
   "cell_type": "code",
   "execution_count": 10,
   "metadata": {},
   "outputs": [],
   "source": [
    "def recalcMus(X, Rnk):\n",
    "    # need K newMus\n",
    "    #rnk gives us our binary Rnk matrix saying which points are closest to oldMus\n",
    "    #initialize newMu array to dimension of K columns (usually 2x2)\n",
    "#    newMu = np.zeros((np.shape(Rnk)[1],2))\n",
    "#    mu = np.zeros((np.shape(Rnk)[1],2))\n",
    "#    tally = np.zeros((np.shape(Rnk)[1],1))\n",
    "#    for k in range(0,Rnk.shape[1]):\n",
    "#        for i in range(0,Rnk.shape[0]):\n",
    "#            if (Rnk[i][k]==1):\n",
    "#                tally[k] = tally[k] + 1\n",
    "#                mu[k][:] = mu[k][:] + X[i][:]\n",
    "#    for k in range(0,Rnk.shape[1]):\n",
    "#        for j in range(0,2):\n",
    "#            newMu[k][j] = mu[k][j]/tally[k]\n",
    "#    return newMu   \n",
    "    return (np.divide(X.T.dot(Rnk), np.sum(Rnk, axis=0))).T\n",
    "    "
   ]
  },
  {
   "cell_type": "code",
   "execution_count": 11,
   "metadata": {},
   "outputs": [
    {
     "data": {
      "text/plain": [
       "array([[0.84158416, 0.03960396, 0.03960396, 0.03960396, 0.03960396],\n",
       "       [0.95348837, 0.01162791, 0.01162791, 0.01162791, 0.01162791]])"
      ]
     },
     "execution_count": 11,
     "metadata": {},
     "output_type": "execute_result"
    }
   ],
   "source": [
    "#testing calcSq Distances function\n",
    "mus_test1 = np.array([[0,0,0,0,9],[0,0,0,0,0],[0,0,0,0,0],[0,0,0,0,0],[0,0,0,0,0]])\n",
    "X_test1 = np.array([[1,1,1,1,0],[1,0,0,0,0]])\n",
    "sqDist1 = calcSqDistances(X_test1, mus_test1)\n",
    "# normalize\n",
    "sum_of_rows = sqDist1.sum(axis=1)\n",
    "X_norm = sqDist1 / sum_of_rows[:, np.newaxis]\n",
    "X_norm\n"
   ]
  },
  {
   "cell_type": "code",
   "execution_count": 12,
   "metadata": {},
   "outputs": [
    {
     "data": {
      "text/plain": [
       "array([[0., 1., 0., 0., 0.],\n",
       "       [0., 1., 0., 0., 0.]])"
      ]
     },
     "execution_count": 12,
     "metadata": {},
     "output_type": "execute_result"
    }
   ],
   "source": [
    "Rnk = determineRnk(X_norm)\n",
    "Rnk"
   ]
  },
  {
   "cell_type": "code",
   "execution_count": 15,
   "metadata": {},
   "outputs": [
    {
     "name": "stderr",
     "output_type": "stream",
     "text": [
      "<ipython-input-10-5c2b38ddbc14>:17: RuntimeWarning: invalid value encountered in true_divide\n",
      "  return (np.divide(X.T.dot(Rnk), np.sum(Rnk, axis=0))).T\n"
     ]
    },
    {
     "data": {
      "text/plain": [
       "array([[nan, nan, nan, nan, nan],\n",
       "       [1. , 0.5, 0.5, 0.5, 0. ],\n",
       "       [nan, nan, nan, nan, nan],\n",
       "       [nan, nan, nan, nan, nan],\n",
       "       [nan, nan, nan, nan, nan]])"
      ]
     },
     "execution_count": 15,
     "metadata": {},
     "output_type": "execute_result"
    }
   ],
   "source": [
    "KmusOld = mus_test1\n",
    "Kmus = recalcMus(X_test1, Rnk)\n",
    "Kmus"
   ]
  },
  {
   "cell_type": "code",
   "execution_count": 14,
   "metadata": {},
   "outputs": [],
   "source": [
    "def runKMeans(K, fileString):\n",
    "    # Load data file specified by fileStringfrom Bishop book\n",
    "    X = np.loadtxt(fileString)\n",
    "\n",
    "    # Determine and store data set information\n",
    "    N = np.shape(X)[0]\n",
    "    D = np.shape(X)[1]\n",
    "\n",
    "    # Allocate space for the K mu vectors\n",
    "    Kmus = np.zeros((K, D))\n",
    "\n",
    "    # Initialize cluster centers by randomly picking points from the data\n",
    "    rndinds = np.random.permutation(N)\n",
    "    Kmus = X[rndinds[:K]];\n",
    "\n",
    "    # Specify the maximum number of iterations to allow\n",
    "    maxiters = 1000;\n",
    "\n",
    "    for iter in range(maxiters):\n",
    "        # Assign each data vector to closest mu vector as per Bishop (9.2)\n",
    "        # Do this by first calculating a squared distance matrix where the n,k entry\n",
    "        # contains the squared distance from the nth data vector to the kth mu vector\n",
    "\n",
    "        # sqDmat will be an N-by-K matrix with the n,k entry as specfied above\n",
    "        sqDmat = calcSqDistances(X, Kmus);\n",
    "       \n",
    "        # given the matrix of squared distances, determine the closest cluster\n",
    "        # center for each data vector \n",
    "\n",
    "        # R is the \"responsibility\" matrix\n",
    "        # R will be an N-by-K matrix of binary values whose n,k entry is set as \n",
    "        # per Bishop (9.2)\n",
    "        # Specifically, the n,k entry is 1 if point n is closest to cluster k,\n",
    "        # and is 0 otherwise\n",
    "        Rnk = determineRnk(sqDmat)\n",
    "        \n",
    "        KmusOld = Kmus\n",
    "        plotCurrent(X, Rnk, Kmus)\n",
    "        plt.show()\n",
    "\n",
    "        # Recalculate mu values based on cluster assignments as per Bishop (9.4)\n",
    "        Kmus = recalcMus(X, Rnk)\n",
    "\n",
    "        # Check to see if the cluster centers have converged.  If so, break.\n",
    "        if sum(abs(KmusOld.flatten() - Kmus.flatten())) < 1e-6:\n",
    "            break\n",
    "\n",
    "    plotCurrent(X,Rnk,Kmus)"
   ]
  },
  {
   "cell_type": "markdown",
   "metadata": {},
   "source": [
    "## PCA - Shahab"
   ]
  },
  {
   "cell_type": "code",
   "execution_count": 12,
   "metadata": {},
   "outputs": [],
   "source": [
    "#homework code for sorting eigenvectors\n",
    "def eigsort(V, eigvals):\n",
    "    \n",
    "    # Sort the eigenvalues from largest to smallest. Store the sorted\n",
    "    # eigenvalues in the column vector lambd.\n",
    "    lohival = np.sort(eigvals)\n",
    "    lohiindex = np.argsort(eigvals)\n",
    "    lambd = np.flip(lohival)\n",
    "    index = np.flip(lohiindex)\n",
    "    Dsort = np.diag(lambd)\n",
    "    \n",
    "    # Sort eigenvectors to correspond to the ordered eigenvalues. Store sorted\n",
    "    # eigenvectors as columns of the matrix vsort.\n",
    "    M = np.size(lambd)\n",
    "    Vsort = np.zeros((M, M))\n",
    "    for i in range(M):\n",
    "        Vsort[:,i] = V[:,index[i]]\n",
    "    return Vsort, Dsort"
   ]
  },
  {
   "cell_type": "code",
   "execution_count": 18,
   "metadata": {},
   "outputs": [
    {
     "name": "stdout",
     "output_type": "stream",
     "text": [
      "Data shape: (5, 661)\n",
      "Mean shape: (5, 1)\n",
      "mean subtracted data: (5, 661)\n",
      "covmatrix: (5, 5)\n",
      "All PCA: (5, 661)\n",
      "2 PCA:  (5, 661)\n",
      "reduced to 2?: (2, 661)\n"
     ]
    }
   ],
   "source": [
    "x = X_train.to_numpy()\n",
    "x = x.T\n",
    "print(\"Data shape:\", x.shape)\n",
    "\n",
    "#finds the mean of each dimension\n",
    "mean = np.mean(x, axis=1).reshape(5,1)\n",
    "print(\"Mean shape:\", mean.shape)\n",
    "\n",
    "# calcuclates the matrix of mean subtracted points\n",
    "Z = x - mean\n",
    "print(\"mean subtracted data:\", Z.shape)\n",
    "\n",
    "# calculates the covariance matrix\n",
    "covmatrix = 1/(len(x[0]))*np.matmul(Z,Z.T)\n",
    "print(\"covmatrix:\", covmatrix.shape)\n",
    "\n",
    "#calculates eigenvalues\n",
    "eigvals, V = np.linalg.eig(covmatrix)\n",
    "sortV, sortD = eigsort(V, eigvals)\n",
    "\n",
    "#transforms the entire dataset using all principal components\n",
    "transform = np.matmul(sortV.T, Z)\n",
    "print(\"All PCA:\", transform.shape)\n",
    "\n",
    "#transforms the entire dataset using top 2 principal components\n",
    "best2 = np.matmul(sortV[:,0:2], Z[0:2])\n",
    "print(\"2 PCA: \", best2.shape)\n",
    "\n",
    "#trying to reduce dimensionality with top 2 principal components\n",
    "reduced = np.matmul(sortV[0:2,0:2], Z[0:2])\n",
    "print(\"reduced to 2?:\", reduced.shape)"
   ]
  },
  {
   "cell_type": "markdown",
   "metadata": {},
   "source": [
    "## K-Means after PCA - Cory"
   ]
  },
  {
   "cell_type": "code",
   "execution_count": null,
   "metadata": {},
   "outputs": [],
   "source": []
  },
  {
   "cell_type": "markdown",
   "metadata": {},
   "source": [
    "## Comparative Data Analysis - Shadman\n",
    "Run test set on our k-means to get accuracies. Compare these accuracies as well as runtimes"
   ]
  },
  {
   "cell_type": "code",
   "execution_count": null,
   "metadata": {},
   "outputs": [],
   "source": []
  },
  {
   "cell_type": "markdown",
   "metadata": {},
   "source": [
    "## Conclusion - Dori"
   ]
  },
  {
   "cell_type": "code",
   "execution_count": null,
   "metadata": {},
   "outputs": [],
   "source": []
  }
 ],
 "metadata": {
  "kernelspec": {
   "display_name": "Python 3",
   "language": "python",
   "name": "python3"
  },
  "language_info": {
   "codemirror_mode": {
    "name": "ipython",
    "version": 3
   },
   "file_extension": ".py",
   "mimetype": "text/x-python",
   "name": "python",
   "nbconvert_exporter": "python",
   "pygments_lexer": "ipython3",
<<<<<<< Updated upstream
   "version": "3.8.10"
=======
   "version": "3.8.3"
>>>>>>> Stashed changes
  }
 },
 "nbformat": 4,
 "nbformat_minor": 4
}
